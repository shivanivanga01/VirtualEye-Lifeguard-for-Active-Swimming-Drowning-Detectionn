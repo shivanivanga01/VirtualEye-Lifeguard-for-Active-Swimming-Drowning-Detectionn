{
  "nbformat": 4,
  "nbformat_minor": 0,
  "metadata": {
    "colab": {
      "provenance": [],
      "gpuType": "T4"
    },
    "kernelspec": {
      "name": "python3",
      "display_name": "Python 3"
    },
    "language_info": {
      "name": "python"
    },
    "accelerator": "GPU"
  },
  "cells": [
    {
      "cell_type": "code",
      "source": [
        "!wget https://github.com/ultralytics/yolov5/releases/download/v6.0/yolov5s.pt"
      ],
      "metadata": {
        "id": "tSt1jTMz53JZ"
      },
      "execution_count": null,
      "outputs": []
    },
    {
      "cell_type": "code",
      "source": [
        "!mkdir -p ~/.kaggle\n",
        "!cp kaggle.json ~/.kaggle/\n",
        "!chmod 600 ~/.kaggle/kaggle.json\n"
      ],
      "metadata": {
        "id": "MSrt3XrheE7S"
      },
      "execution_count": null,
      "outputs": []
    },
    {
      "cell_type": "code",
      "source": [
        "!kaggle datasets download alanoudawaji/swimming-and-drowning-dataset"
      ],
      "metadata": {
        "id": "YC5wHTqR3fLC"
      },
      "execution_count": null,
      "outputs": []
    },
    {
      "cell_type": "code",
      "source": [
        "!unzip /content/swimming-and-drowning-dataset.zip"
      ],
      "metadata": {
        "id": "-5NN5pYJ3v09",
        "collapsed": true
      },
      "execution_count": null,
      "outputs": []
    },
    {
      "cell_type": "code",
      "execution_count": null,
      "metadata": {
        "id": "W6wGUHw_2NfA"
      },
      "outputs": [],
      "source": [
        "!pip install ultralytics"
      ]
    },
    {
      "cell_type": "code",
      "source": [
        "from ultralytics import YOLO\n",
        "\n",
        "#Loading the model\n",
        "model = YOLO('yolov5s.pt')\n",
        "\n",
        "print(\"Model loaded Successfully\")\n"
      ],
      "metadata": {
        "id": "t3r1vtO67m4_"
      },
      "execution_count": null,
      "outputs": []
    },
    {
      "cell_type": "code",
      "source": [
        "#Training the model\n",
        "results = model.train(\n",
        "    data=\"/content/data.yaml\",\n",
        "    epochs=25,\n",
        "    imgsz=640,\n",
        "    augment=True,\n",
        "    patience=20\n",
        ")"
      ],
      "metadata": {
        "id": "SRcqF7fvbVEd"
      },
      "execution_count": null,
      "outputs": []
    },
    {
      "cell_type": "code",
      "source": [
        "#validating the model\n",
        "model.val(data = \"/content/data.yaml\")"
      ],
      "metadata": {
        "id": "YnFwa1_q6nrO"
      },
      "execution_count": null,
      "outputs": []
    },
    {
      "cell_type": "code",
      "source": [
        "# Predict on a test image\n",
        "model.predict(\n",
        "    \"/content/test/images/-Clipchamp-_mp4-11_jpg.rf.0c2b48fcd0dc1741baded48d49546814.jpg\",\n",
        "    save=True,\n",
        "    imgsz=320,\n",
        "    conf=0.6\n",
        ")"
      ],
      "metadata": {
        "id": "TM-qA0ihfEA6"
      },
      "execution_count": null,
      "outputs": []
    },
    {
      "cell_type": "code",
      "source": [
        "from PIL import Image\n",
        "from IPython.display import display\n",
        "im = Image.open(\"/content/runs/detect/predict/-Clipchamp-_mp4-11_jpg.rf.0c2b48fcd0dc1741baded48d49546814.jpg\")\n",
        "display(im)"
      ],
      "metadata": {
        "id": "yGEHcoiZfLFp"
      },
      "execution_count": null,
      "outputs": []
    },
    {
      "cell_type": "code",
      "source": [
        "# Visualize Training Results\n",
        "from ultralytics.utils.plotting import plot_results\n",
        "plot_results(\"/content/runs/detect/train/results.csv\")"
      ],
      "metadata": {
        "id": "7vrGGk3vfOPF"
      },
      "execution_count": null,
      "outputs": []
    }
  ]
}